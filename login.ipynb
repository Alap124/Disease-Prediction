{
 "cells": [
  {
   "cell_type": "code",
   "execution_count": 22,
   "id": "47ef516a-81a3-429f-b659-36636dfc8ec4",
   "metadata": {},
   "outputs": [
    {
     "name": "stdout",
     "output_type": "stream",
     "text": [
      "Defaulting to user installation because normal site-packages is not writeable\n",
      "Requirement already satisfied: mysql-connector-python in c:\\users\\alapr\\appdata\\roaming\\python\\python311\\site-packages (8.3.0)\n",
      "Note: you may need to restart the kernel to use updated packages.\n"
     ]
    }
   ],
   "source": [
    "pip install mysql-connector-python"
   ]
  },
  {
   "cell_type": "code",
   "execution_count": 23,
   "id": "16d228b0-c676-4db2-bea2-1d798abf654f",
   "metadata": {},
   "outputs": [
    {
     "name": "stdout",
     "output_type": "stream",
     "text": [
      "Defaulting to user installation because normal site-packages is not writeable\n",
      "Requirement already satisfied: pymysql in c:\\users\\alapr\\appdata\\roaming\\python\\python311\\site-packages (1.1.0)\n",
      "Note: you may need to restart the kernel to use updated packages.\n"
     ]
    }
   ],
   "source": [
    "pip install pymysql"
   ]
  },
  {
   "cell_type": "code",
   "execution_count": 24,
   "id": "62fc9915-2499-46da-81d5-c1b56a0fd2fd",
   "metadata": {},
   "outputs": [
    {
     "data": {
      "text/plain": [
       "'import tkinter as tk\\nfrom tkinter import messagebox\\nimport mysql.connector\\n\\n# Connect to MySQL database\\ndef connect_to_db():\\n    try:\\n        db_connection = mysql.connector.connect(\\n            host=\"localhost\",\\n            user=\"nec\",\\n            password=\"12345\",\\n            database=\"login\"\\n        )\\n        return db_connection\\n    except mysql.connector.Error as err:\\n        print(\"Error: {}\".format(err))\\n        return None\\n\\n# Verify login credentials\\ndef login():\\n    username = username_entry.get()\\n    password = password_entry.get()\\n\\n    db_connection = connect_to_db()\\n    if db_connection:\\n        cursor = db_connection.cursor()\\n        query = \"SELECT * FROM users WHERE username = %s AND password = %s\"\\n        cursor.execute(query, (username, password))\\n        user = cursor.fetchone()\\n        if user:\\n            messagebox.showinfo(\"Login Successful\", \"Welcome, \" + username + \"!\")\\n        else:\\n            messagebox.showerror(\"Login Failed\", \"Invalid username or password\")\\n        cursor.close()\\n        db_connection.close()\\n\\n# Create main window\\nroot = tk.Tk()\\nroot.title(\"Login\")\\n\\n# Username Label and Entry\\nusername_label = tk.Label(root, text=\"Username:\")\\nusername_label.pack()\\nusername_entry = tk.Entry(root)\\nusername_entry.pack()\\n\\n# Password Label and Entry\\npassword_label = tk.Label(root, text=\"Password:\")\\npassword_label.pack()\\npassword_entry = tk.Entry(root, show=\"*\")\\npassword_entry.pack()\\n\\n# Login Button\\nlogin_button = tk.Button(root, text=\"Login\", command=login)\\nlogin_button.pack()\\n\\nroot.mainloop()\\n'"
      ]
     },
     "execution_count": 24,
     "metadata": {},
     "output_type": "execute_result"
    }
   ],
   "source": []
  },
  {
   "cell_type": "code",
   "execution_count": 1,
   "id": "09a1e247-1ff6-4cbf-862a-0e1a5a5817b7",
   "metadata": {},
   "outputs": [],
   "source": [
    "import tkinter as tk\n",
    "from tkinter import messagebox\n",
    "import mysql.connector\n",
    "import subprocess\n",
    "\n",
    "# Function to validate login credentials\n",
    "def login():\n",
    "    username = username_entry.get()\n",
    "    password = password_entry.get()\n",
    "\n",
    "    db_connection = connect_to_db()\n",
    "    if db_connection:\n",
    "        cursor = db_connection.cursor()\n",
    "        query = \"SELECT * FROM users WHERE username = %s AND password = %s\"\n",
    "        cursor.execute(query, (username, password))\n",
    "        user = cursor.fetchone()\n",
    "        if user:\n",
    "            messagebox.showinfo(\"Login Successful\", \"Welcome, \" + username + \"!\")\n",
    "            open_work_notebook()\n",
    "            root.destroy()  # Close the login window upon successful login\n",
    "        else:\n",
    "            messagebox.showerror(\"Login Failed\", \"Invalid username or password\")\n",
    "        cursor.close()\n",
    "        db_connection.close()\n",
    "\n",
    "# Function to connect to MySQL database\n",
    "def connect_to_db():\n",
    "    try:\n",
    "        db_connection = mysql.connector.connect(\n",
    "            host=\"localhost\",\n",
    "            user=\"nec\",\n",
    "            password=\"12345\",\n",
    "            database=\"login\"\n",
    "        )\n",
    "        return db_connection\n",
    "    except mysql.connector.Error as err:\n",
    "        print(\"Error: {}\".format(err))\n",
    "        return None\n",
    "\n",
    "# Function to open work notebook\n",
    "def open_work_notebook():\n",
    "    subprocess.Popen([\"jupyter\", \"notebook\", \"work.ipynb\"])\n",
    "\n",
    "# Create main window for login\n",
    "root = tk.Tk()\n",
    "root.title(\"Login\")\n",
    "\n",
    "# Username Label and Entry\n",
    "username_label = tk.Label(root, text=\"Username:\")\n",
    "username_label.pack()\n",
    "username_entry = tk.Entry(root)\n",
    "username_entry.pack()\n",
    "\n",
    "# Password Label and Entry\n",
    "password_label = tk.Label(root, text=\"Password:\")\n",
    "password_label.pack()\n",
    "password_entry = tk.Entry(root, show=\"*\")\n",
    "password_entry.pack()\n",
    "\n",
    "# Login Button\n",
    "login_button = tk.Button(root, text=\"Login\", command=login)\n",
    "login_button.pack()\n",
    "\n",
    "root.mainloop()\n"
   ]
  },
  {
   "cell_type": "code",
   "execution_count": null,
   "id": "d7daf3d7-fed7-4ba9-bc67-08b7de798092",
   "metadata": {},
   "outputs": [],
   "source": []
  }
 ],
 "metadata": {
  "kernelspec": {
   "display_name": "Python 3 (ipykernel)",
   "language": "python",
   "name": "python3"
  },
  "language_info": {
   "codemirror_mode": {
    "name": "ipython",
    "version": 3
   },
   "file_extension": ".py",
   "mimetype": "text/x-python",
   "name": "python",
   "nbconvert_exporter": "python",
   "pygments_lexer": "ipython3",
   "version": "3.11.7"
  }
 },
 "nbformat": 4,
 "nbformat_minor": 5
}
